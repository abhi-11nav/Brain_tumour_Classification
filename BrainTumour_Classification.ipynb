{
  "nbformat": 4,
  "nbformat_minor": 0,
  "metadata": {
    "colab": {
      "name": "BrainTumour_Classification.ipynb",
      "provenance": [],
      "mount_file_id": "1zy_6tu9Vomrfakk6-f_uoVsEat0A2PGS",
      "authorship_tag": "ABX9TyNNTwExfCmpEH5wIcyBLbJd",
      "include_colab_link": true
    },
    "kernelspec": {
      "name": "python3",
      "display_name": "Python 3"
    },
    "language_info": {
      "name": "python"
    },
    "accelerator": "GPU",
    "gpuClass": "standard"
  },
  "cells": [
    {
      "cell_type": "markdown",
      "metadata": {
        "id": "view-in-github",
        "colab_type": "text"
      },
      "source": [
        "<a href=\"https://colab.research.google.com/github/abhi-11nav/Brain_tumour_Classification/blob/main/BrainTumour_Classification.ipynb\" target=\"_parent\"><img src=\"https://colab.research.google.com/assets/colab-badge.svg\" alt=\"Open In Colab\"/></a>"
      ]
    },
    {
      "cell_type": "code",
      "execution_count": null,
      "metadata": {
        "id": "QaOOcKTyntmT"
      },
      "outputs": [],
      "source": [
        "import pandas as pd \n",
        "import numpy as np"
      ]
    },
    {
      "cell_type": "code",
      "source": [
        "import tensorflow as tf \n",
        "from tensorflow import keras\n",
        "\n",
        "from tensorflow.keras.layers import Dense, Flatten, Input, Conv2D, MaxPool2D\n",
        "from tensorflow.keras.models import Sequential, Model\n",
        "from tensorflow.keras.preprocessing import image \n",
        "from tensorflow.keras.preprocessing.image import ImageDataGenerator,load_img\n",
        "from glob import glob"
      ],
      "metadata": {
        "id": "w1Jm1tjdoilP"
      },
      "execution_count": null,
      "outputs": []
    },
    {
      "cell_type": "markdown",
      "source": [
        "# Data credits : "
      ],
      "metadata": {
        "id": "xjtGRIcnpUcf"
      }
    },
    {
      "cell_type": "code",
      "source": [
        "!nvidia-smi"
      ],
      "metadata": {
        "colab": {
          "base_uri": "https://localhost:8080/"
        },
        "id": "bjgOOexHqNsd",
        "outputId": "5e9ff6b0-cf8e-4a2d-8288-ca7cdbf82574"
      },
      "execution_count": null,
      "outputs": [
        {
          "output_type": "stream",
          "name": "stdout",
          "text": [
            "Mon Jun 27 15:14:52 2022       \n",
            "+-----------------------------------------------------------------------------+\n",
            "| NVIDIA-SMI 460.32.03    Driver Version: 460.32.03    CUDA Version: 11.2     |\n",
            "|-------------------------------+----------------------+----------------------+\n",
            "| GPU  Name        Persistence-M| Bus-Id        Disp.A | Volatile Uncorr. ECC |\n",
            "| Fan  Temp  Perf  Pwr:Usage/Cap|         Memory-Usage | GPU-Util  Compute M. |\n",
            "|                               |                      |               MIG M. |\n",
            "|===============================+======================+======================|\n",
            "|   0  Tesla T4            Off  | 00000000:00:04.0 Off |                    0 |\n",
            "| N/A   41C    P8     9W /  70W |      0MiB / 15109MiB |      0%      Default |\n",
            "|                               |                      |                  N/A |\n",
            "+-------------------------------+----------------------+----------------------+\n",
            "                                                                               \n",
            "+-----------------------------------------------------------------------------+\n",
            "| Processes:                                                                  |\n",
            "|  GPU   GI   CI        PID   Type   Process name                  GPU Memory |\n",
            "|        ID   ID                                                   Usage      |\n",
            "|=============================================================================|\n",
            "|  No running processes found                                                 |\n",
            "+-----------------------------------------------------------------------------+\n"
          ]
        }
      ]
    },
    {
      "cell_type": "code",
      "source": [
        "image_size = [255,255]\n",
        "\n",
        "training_data_path = \"/content/drive/MyDrive/data/Training/\"\n",
        "testing_data_path = \"/content/drive/MyDrive/data/Testing/\""
      ],
      "metadata": {
        "id": "phYSxj0fqehB"
      },
      "execution_count": null,
      "outputs": []
    },
    {
      "cell_type": "code",
      "source": [
        "# Data Augmentation\n",
        "\n",
        "train_datagen = ImageDataGenerator(rescale=1./255,zoom_range=0.3,horizontal_flip=True,vertical_flip=True,shear_range=0.2)\n",
        "\n",
        "test_datagen = ImageDataGenerator(rescale=1./255)"
      ],
      "metadata": {
        "id": "DOFOjChcsFJr"
      },
      "execution_count": null,
      "outputs": []
    },
    {
      "cell_type": "code",
      "source": [
        "categories = glob(\"/content/drive/MyDrive/data/Training/*\")"
      ],
      "metadata": {
        "id": "OOPxY_LGuo-4"
      },
      "execution_count": null,
      "outputs": []
    },
    {
      "cell_type": "code",
      "source": [
        "len(categories)"
      ],
      "metadata": {
        "colab": {
          "base_uri": "https://localhost:8080/"
        },
        "id": "Drj65Fc7wTql",
        "outputId": "958f1222-ed66-4cad-99b9-40968381c793"
      },
      "execution_count": null,
      "outputs": [
        {
          "output_type": "execute_result",
          "data": {
            "text/plain": [
              "4"
            ]
          },
          "metadata": {},
          "execution_count": 13
        }
      ]
    },
    {
      "cell_type": "code",
      "source": [
        "train_data = train_datagen.flow_from_directory(training_data_path,target_size=(224,224),batch_size=16,class_mode=\"categorical\")\n",
        "\n",
        "test_data = test_datagen.flow_from_directory(testing_data_path, target_size=(224,224),batch_size=2,class_mode=\"categorical\")"
      ],
      "metadata": {
        "colab": {
          "base_uri": "https://localhost:8080/"
        },
        "id": "3mlpMTiPyMnx",
        "outputId": "045ac553-ce32-4530-b73f-18af0428d945"
      },
      "execution_count": null,
      "outputs": [
        {
          "output_type": "stream",
          "name": "stdout",
          "text": [
            "Found 2870 images belonging to 4 classes.\n",
            "Found 394 images belonging to 4 classes.\n"
          ]
        }
      ]
    },
    {
      "cell_type": "markdown",
      "source": [
        "## Transfer learning technique"
      ],
      "metadata": {
        "id": "wvgvU8ke7Ggg"
      }
    },
    {
      "cell_type": "code",
      "source": [
        "from keras.applications.vgg19 import VGG19"
      ],
      "metadata": {
        "id": "GcHF1e4j63CL"
      },
      "execution_count": null,
      "outputs": []
    },
    {
      "cell_type": "code",
      "source": [
        "vgg19 = VGG19(input_shape= image_size+[3], weights=\"imagenet\", include_top=False)"
      ],
      "metadata": {
        "colab": {
          "base_uri": "https://localhost:8080/"
        },
        "id": "0d5J39VL63Et",
        "outputId": "d9a9df0b-92d8-43ad-c083-ff9a10fb6ae9"
      },
      "execution_count": null,
      "outputs": [
        {
          "output_type": "stream",
          "name": "stdout",
          "text": [
            "Downloading data from https://storage.googleapis.com/tensorflow/keras-applications/vgg19/vgg19_weights_tf_dim_ordering_tf_kernels_notop.h5\n",
            "80142336/80134624 [==============================] - 0s 0us/step\n",
            "80150528/80134624 [==============================] - 0s 0us/step\n"
          ]
        }
      ]
    },
    {
      "cell_type": "code",
      "source": [
        "for layers in vgg19.layers:\n",
        "  layers.trainable = False"
      ],
      "metadata": {
        "id": "pRpYGXTB63Hm"
      },
      "execution_count": null,
      "outputs": []
    },
    {
      "cell_type": "code",
      "source": [
        "x = Flatten()(vgg19.output)\n",
        "\n",
        "prediction = Dense(len(categories),activation=\"softmax\")(x)"
      ],
      "metadata": {
        "id": "QOeeR0KY7w-n"
      },
      "execution_count": null,
      "outputs": []
    },
    {
      "cell_type": "code",
      "source": [
        "model = Model(inputs=vgg19.input,outputs=prediction)"
      ],
      "metadata": {
        "id": "Q74ezHHR9A9U"
      },
      "execution_count": null,
      "outputs": []
    },
    {
      "cell_type": "code",
      "source": [
        "model.summary()"
      ],
      "metadata": {
        "colab": {
          "base_uri": "https://localhost:8080/"
        },
        "id": "gbkMxAM29ZII",
        "outputId": "2b7c7000-f4f0-44e9-d771-7c9c962fc3b2"
      },
      "execution_count": null,
      "outputs": [
        {
          "output_type": "stream",
          "name": "stdout",
          "text": [
            "Model: \"model\"\n",
            "_________________________________________________________________\n",
            " Layer (type)                Output Shape              Param #   \n",
            "=================================================================\n",
            " input_1 (InputLayer)        [(None, 255, 255, 3)]     0         \n",
            "                                                                 \n",
            " block1_conv1 (Conv2D)       (None, 255, 255, 64)      1792      \n",
            "                                                                 \n",
            " block1_conv2 (Conv2D)       (None, 255, 255, 64)      36928     \n",
            "                                                                 \n",
            " block1_pool (MaxPooling2D)  (None, 127, 127, 64)      0         \n",
            "                                                                 \n",
            " block2_conv1 (Conv2D)       (None, 127, 127, 128)     73856     \n",
            "                                                                 \n",
            " block2_conv2 (Conv2D)       (None, 127, 127, 128)     147584    \n",
            "                                                                 \n",
            " block2_pool (MaxPooling2D)  (None, 63, 63, 128)       0         \n",
            "                                                                 \n",
            " block3_conv1 (Conv2D)       (None, 63, 63, 256)       295168    \n",
            "                                                                 \n",
            " block3_conv2 (Conv2D)       (None, 63, 63, 256)       590080    \n",
            "                                                                 \n",
            " block3_conv3 (Conv2D)       (None, 63, 63, 256)       590080    \n",
            "                                                                 \n",
            " block3_conv4 (Conv2D)       (None, 63, 63, 256)       590080    \n",
            "                                                                 \n",
            " block3_pool (MaxPooling2D)  (None, 31, 31, 256)       0         \n",
            "                                                                 \n",
            " block4_conv1 (Conv2D)       (None, 31, 31, 512)       1180160   \n",
            "                                                                 \n",
            " block4_conv2 (Conv2D)       (None, 31, 31, 512)       2359808   \n",
            "                                                                 \n",
            " block4_conv3 (Conv2D)       (None, 31, 31, 512)       2359808   \n",
            "                                                                 \n",
            " block4_conv4 (Conv2D)       (None, 31, 31, 512)       2359808   \n",
            "                                                                 \n",
            " block4_pool (MaxPooling2D)  (None, 15, 15, 512)       0         \n",
            "                                                                 \n",
            " block5_conv1 (Conv2D)       (None, 15, 15, 512)       2359808   \n",
            "                                                                 \n",
            " block5_conv2 (Conv2D)       (None, 15, 15, 512)       2359808   \n",
            "                                                                 \n",
            " block5_conv3 (Conv2D)       (None, 15, 15, 512)       2359808   \n",
            "                                                                 \n",
            " block5_conv4 (Conv2D)       (None, 15, 15, 512)       2359808   \n",
            "                                                                 \n",
            " block5_pool (MaxPooling2D)  (None, 7, 7, 512)         0         \n",
            "                                                                 \n",
            " flatten (Flatten)           (None, 25088)             0         \n",
            "                                                                 \n",
            " dense_11 (Dense)            (None, 4)                 100356    \n",
            "                                                                 \n",
            "=================================================================\n",
            "Total params: 20,124,740\n",
            "Trainable params: 100,356\n",
            "Non-trainable params: 20,024,384\n",
            "_________________________________________________________________\n"
          ]
        }
      ]
    },
    {
      "cell_type": "code",
      "source": [
        "model.compile(loss=\"categorical_crossentropy\",optimizer=\"Adam\",metrics=['accuracy'])"
      ],
      "metadata": {
        "id": "DEvm_cDX9aTU"
      },
      "execution_count": null,
      "outputs": []
    },
    {
      "cell_type": "code",
      "source": [
        "history = model.fit_generator(train_data,validation_data=test_data,epochs=10,steps_per_epoch= len(train_data),validation_steps= len(test_data))"
      ],
      "metadata": {
        "colab": {
          "base_uri": "https://localhost:8080/"
        },
        "id": "fXyVOFp79n3P",
        "outputId": "00d07437-47c0-46a7-e89a-438b9b4b18b4"
      },
      "execution_count": null,
      "outputs": [
        {
          "output_type": "stream",
          "name": "stderr",
          "text": [
            "/usr/local/lib/python3.7/dist-packages/ipykernel_launcher.py:1: UserWarning: `Model.fit_generator` is deprecated and will be removed in a future version. Please use `Model.fit`, which supports generators.\n",
            "  \"\"\"Entry point for launching an IPython kernel.\n"
          ]
        },
        {
          "output_type": "stream",
          "name": "stdout",
          "text": [
            "Epoch 1/10\n",
            "  5/180 [..............................] - ETA: 11:38 - loss: 2.3978 - accuracy: 0.3000"
          ]
        }
      ]
    },
    {
      "cell_type": "code",
      "source": [
        ""
      ],
      "metadata": {
        "id": "rLKE1hB_9_Lv"
      },
      "execution_count": null,
      "outputs": []
    }
  ]
}